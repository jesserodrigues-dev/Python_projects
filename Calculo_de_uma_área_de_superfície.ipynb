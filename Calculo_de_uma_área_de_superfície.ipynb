{
  "nbformat": 4,
  "nbformat_minor": 0,
  "metadata": {
    "colab": {
      "provenance": []
    },
    "kernelspec": {
      "name": "python3",
      "display_name": "Python 3"
    },
    "language_info": {
      "name": "python"
    }
  },
  "cells": [
    {
      "cell_type": "markdown",
      "source": [
        "Calcule a área da superfície de uma semi-esfera.\n",
        "\n",
        "Seja a equação: $x^2 +y^2 +z^2 = r^2$, com $r^2 = 100$.\n",
        "\n"
      ],
      "metadata": {
        "id": "0GwyTrcHbSql"
      }
    },
    {
      "cell_type": "code",
      "source": [
        "# importa e checa a versão utilizada do Sympy\n",
        "\n",
        "import sympy as sp\n",
        "sp.__version__"
      ],
      "metadata": {
        "colab": {
          "base_uri": "https://localhost:8080/",
          "height": 35
        },
        "id": "dT9HznQjbz7Y",
        "outputId": "204accd9-14db-493e-9337-0a287d7b068b"
      },
      "execution_count": 1,
      "outputs": [
        {
          "output_type": "execute_result",
          "data": {
            "text/plain": [
              "'1.7.1'"
            ],
            "application/vnd.google.colaboratory.intrinsic+json": {
              "type": "string"
            }
          },
          "metadata": {},
          "execution_count": 1
        }
      ]
    },
    {
      "cell_type": "code",
      "source": [
        "# imprime as equações de maneira 'matemática'\n",
        "\n",
        "sp.init_printing()"
      ],
      "metadata": {
        "id": "hlPT0qBJfW6N"
      },
      "execution_count": 2,
      "outputs": []
    },
    {
      "cell_type": "code",
      "source": [
        "# definção das váriaveis\n",
        "\n",
        "simbolos = ['theta', 'phi', 'x', 'y', 'z', 'i', 'j', 'k']\n",
        "theta, phi, x, y, z, i, j, k = sp.symbols(simbolos)\n",
        "\n",
        "r = 10  # raiz quadrada de 100\n",
        "\n",
        "x = r*sp.sin(phi)*sp.cos(theta)\n",
        "y = r*sp.sin(phi)*sp.sin(theta)\n",
        "z = r*sp.cos(phi)"
      ],
      "metadata": {
        "id": "WHG3WfkMb_7e"
      },
      "execution_count": 3,
      "outputs": []
    },
    {
      "cell_type": "code",
      "source": [
        "# cria matrix com as coordenadas paremetrizas na função esférica \n",
        "\n",
        "sigma = sp.Matrix([x,y,z])\n",
        "sigma"
      ],
      "metadata": {
        "colab": {
          "base_uri": "https://localhost:8080/",
          "height": 79
        },
        "id": "EEqe58AkcsSz",
        "outputId": "e2848917-535b-493a-f7fd-51024fa0a0b3"
      },
      "execution_count": 4,
      "outputs": [
        {
          "output_type": "execute_result",
          "data": {
            "text/plain": [
              "⎡10⋅sin(φ)⋅cos(θ)⎤\n",
              "⎢                ⎥\n",
              "⎢10⋅sin(φ)⋅sin(θ)⎥\n",
              "⎢                ⎥\n",
              "⎣   10⋅cos(φ)    ⎦"
            ],
            "text/latex": "$\\displaystyle \\left[\\begin{matrix}10 \\sin{\\left(\\phi \\right)} \\cos{\\left(\\theta \\right)}\\\\10 \\sin{\\left(\\phi \\right)} \\sin{\\left(\\theta \\right)}\\\\10 \\cos{\\left(\\phi \\right)}\\end{matrix}\\right]$"
          },
          "metadata": {},
          "execution_count": 4
        }
      ]
    },
    {
      "cell_type": "code",
      "source": [
        "# calcula as derivadas de sigma em relação a theta e phi\n",
        "\n",
        "dsigma_dtheta = sp.diff(sigma,theta)\n",
        "dsigma_dphi = sp.diff(sigma,phi)"
      ],
      "metadata": {
        "id": "UNa5a_TadOtR"
      },
      "execution_count": 5,
      "outputs": []
    },
    {
      "cell_type": "code",
      "source": [
        "dsigma_dphi"
      ],
      "metadata": {
        "colab": {
          "base_uri": "https://localhost:8080/",
          "height": 78
        },
        "id": "RF8Jnh_huiqn",
        "outputId": "10515705-ea40-4b28-b6d3-ca302f4b6ab0"
      },
      "execution_count": 6,
      "outputs": [
        {
          "output_type": "execute_result",
          "data": {
            "text/plain": [
              "⎡10⋅cos(φ)⋅cos(θ)⎤\n",
              "⎢                ⎥\n",
              "⎢10⋅sin(θ)⋅cos(φ)⎥\n",
              "⎢                ⎥\n",
              "⎣   -10⋅sin(φ)   ⎦"
            ],
            "text/latex": "$\\displaystyle \\left[\\begin{matrix}10 \\cos{\\left(\\phi \\right)} \\cos{\\left(\\theta \\right)}\\\\10 \\sin{\\left(\\theta \\right)} \\cos{\\left(\\phi \\right)}\\\\- 10 \\sin{\\left(\\phi \\right)}\\end{matrix}\\right]$"
          },
          "metadata": {},
          "execution_count": 6
        }
      ]
    },
    {
      "cell_type": "code",
      "source": [
        "dsigma_dtheta"
      ],
      "metadata": {
        "colab": {
          "base_uri": "https://localhost:8080/",
          "height": 78
        },
        "id": "cNUHO3NHukUu",
        "outputId": "4d1e50d1-f241-4da4-9567-fe8371fa206d"
      },
      "execution_count": 7,
      "outputs": [
        {
          "output_type": "execute_result",
          "data": {
            "text/plain": [
              "⎡-10⋅sin(φ)⋅sin(θ)⎤\n",
              "⎢                 ⎥\n",
              "⎢10⋅sin(φ)⋅cos(θ) ⎥\n",
              "⎢                 ⎥\n",
              "⎣        0        ⎦"
            ],
            "text/latex": "$\\displaystyle \\left[\\begin{matrix}- 10 \\sin{\\left(\\phi \\right)} \\sin{\\left(\\theta \\right)}\\\\10 \\sin{\\left(\\phi \\right)} \\cos{\\left(\\theta \\right)}\\\\0\\end{matrix}\\right]$"
          },
          "metadata": {},
          "execution_count": 7
        }
      ]
    },
    {
      "cell_type": "code",
      "source": [
        "# método alternativo para o cálculo do produto vetorial\n",
        "\n",
        "produto_vetorial = sp.Matrix([[i,j,k],\n",
        "                              [dsigma_dphi[0],dsigma_dphi[1],dsigma_dphi[2]],\n",
        "                              [dsigma_dtheta[0],dsigma_dtheta[1],dsigma_dtheta[2]]]).det()\n",
        "produto_vetorial"
      ],
      "metadata": {
        "colab": {
          "base_uri": "https://localhost:8080/",
          "height": 38
        },
        "id": "B-Gcqb57guqG",
        "outputId": "699447d7-3b75-4892-e9ff-a95c96ac5dab"
      },
      "execution_count": 8,
      "outputs": [
        {
          "output_type": "execute_result",
          "data": {
            "text/plain": [
              "         2                      2                             2               \n",
              "100⋅i⋅sin (φ)⋅cos(θ) + 100⋅j⋅sin (φ)⋅sin(θ) + 100⋅k⋅sin(φ)⋅sin (θ)⋅cos(φ) + 10\n",
              "\n",
              "                     2   \n",
              "0⋅k⋅sin(φ)⋅cos(φ)⋅cos (θ)"
            ],
            "image/png": "[encoded data removed]",
            "text/latex": "$\\displaystyle 100 i \\sin^{2}{\\left(\\phi \\right)} \\cos{\\left(\\theta \\right)} + 100 j \\sin^{2}{\\left(\\phi \\right)} \\sin{\\left(\\theta \\right)} + 100 k \\sin{\\left(\\phi \\right)} \\sin^{2}{\\left(\\theta \\right)} \\cos{\\left(\\phi \\right)} + 100 k \\sin{\\left(\\phi \\right)} \\cos{\\left(\\phi \\right)} \\cos^{2}{\\left(\\theta \\right)}$"
          },
          "metadata": {},
          "execution_count": 8
        }
      ]
    },
    {
      "cell_type": "code",
      "source": [
        "# imprime as componentes do determinante\n",
        "\n",
        "print(produto_vetorial)"
      ],
      "metadata": {
        "colab": {
          "base_uri": "https://localhost:8080/"
        },
        "id": "wwsiIbHOjAUf",
        "outputId": "b23125be-9542-46ae-ab86-810d69ea3d73"
      },
      "execution_count": 9,
      "outputs": [
        {
          "output_type": "stream",
          "name": "stdout",
          "text": [
            "100*i*sin(phi)**2*cos(theta) + 100*j*sin(phi)**2*sin(theta) + 100*k*sin(phi)*sin(theta)**2*cos(phi) + 100*k*sin(phi)*cos(phi)*cos(theta)**2\n"
          ]
        }
      ]
    },
    {
      "cell_type": "code",
      "source": [
        "# copiar na mão os termos em função de i,j e k (é... ainda não sei como pegar isso automaticamente só com o sympy)\n",
        "\n",
        "f1 = 100*(sp.sin(phi)**2)*(sp.cos(theta))\n",
        "f2 = 100*(sp.sin(phi)**2)*(sp.sin(theta))\n",
        "f3 = 100*(sp.sin(phi))*(sp.sin(theta)**2)*(sp.cos(phi)) + 100*(sp.sin(phi))*(sp.cos(phi))*(sp.cos(theta)**2)"
      ],
      "metadata": {
        "id": "HOzn5eXsoCcH"
      },
      "execution_count": 10,
      "outputs": []
    },
    {
      "cell_type": "code",
      "source": [
        "# cálcula a norma do produto vetorial das derivadas parciais\n",
        "\n",
        "norma_vetorial = sp.sqrt(f1**2 + f2**2 + f3**2)\n",
        "norma_vetorial = sp.simplify(norma_vetorial)\n",
        "\n",
        "norma_vetorial"
      ],
      "metadata": {
        "colab": {
          "base_uri": "https://localhost:8080/",
          "height": 48
        },
        "id": "hoessFdcqJvJ",
        "outputId": "45367c13-006b-4326-d810-e6a1385823a3"
      },
      "execution_count": 11,
      "outputs": [
        {
          "output_type": "execute_result",
          "data": {
            "text/plain": [
              "       _________\n",
              "      ╱    2    \n",
              "100⋅╲╱  sin (φ) "
            ],
            "image/png": "[encoded data removed]",
            "text/latex": "$\\displaystyle 100 \\sqrt{\\sin^{2}{\\left(\\phi \\right)}}$"
          },
          "metadata": {},
          "execution_count": 11
        }
      ]
    },
    {
      "cell_type": "code",
      "source": [
        "# calcula a integral dupla\n",
        "\n",
        "area_total = sp.integrate(norma_vetorial,(theta,0,2*sp.pi),(phi,0,sp.pi/2))\n"
      ],
      "metadata": {
        "id": "4YFcpWIerDQV"
      },
      "execution_count": 12,
      "outputs": []
    },
    {
      "cell_type": "code",
      "source": [
        "#resultado final\n",
        "\n",
        "area_total"
      ],
      "metadata": {
        "colab": {
          "base_uri": "https://localhost:8080/",
          "height": 38
        },
        "id": "9XjgAXJgseym",
        "outputId": "37053622-ba04-4cef-cbfd-4bbbf7b25268"
      },
      "execution_count": 13,
      "outputs": [
        {
          "output_type": "execute_result",
          "data": {
            "text/plain": [
              "200⋅π"
            ],
            "image/png": "[encoded data removed]",
            "text/latex": "$\\displaystyle 200 \\pi$"
          },
          "metadata": {},
          "execution_count": 13
        }
      ]
    }
  ]
}