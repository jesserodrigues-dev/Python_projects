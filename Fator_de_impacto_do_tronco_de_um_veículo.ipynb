{
  "nbformat": 4,
  "nbformat_minor": 0,
  "metadata": {
    "colab": {
      "provenance": []
    },
    "kernelspec": {
      "name": "python3",
      "display_name": "Python 3"
    },
    "language_info": {
      "name": "python"
    }
  },
  "cells": [
    {
      "cell_type": "markdown",
      "source": [
        "Calcular o impacto de um veículo passando em um tronco"
      ],
      "metadata": {
        "id": "I32eii5cyhKz"
      }
    },
    {
      "cell_type": "code",
      "execution_count": 1,
      "metadata": {
        "colab": {
          "base_uri": "https://localhost:8080/",
          "height": 35
        },
        "id": "9x5S6mTpyVpB",
        "outputId": "0df01854-2373-43c3-98b1-dc2e47fbde87"
      },
      "outputs": [
        {
          "output_type": "execute_result",
          "data": {
            "text/plain": [
              "'1.7.1'"
            ],
            "application/vnd.google.colaboratory.intrinsic+json": {
              "type": "string"
            }
          },
          "metadata": {},
          "execution_count": 1
        }
      ],
      "source": [
        "#importa a biblioteca sympy e confere sua versão\n",
        "\n",
        "import sympy as sp\n",
        "sp.__version__"
      ]
    },
    {
      "cell_type": "code",
      "source": [
        "#importa a biblioteca matplot para gráficos\n",
        "\n",
        "import matplotlib.pyplot as plt"
      ],
      "metadata": {
        "id": "N3NJ2lqy-Vwf"
      },
      "execution_count": 38,
      "outputs": []
    },
    {
      "cell_type": "code",
      "source": [
        "# define as variáveis do problema\n",
        "\n",
        "# massa em kg\n",
        "m = 200\n",
        "#constante da mola N/m\n",
        "k = 1*(10**4)\n",
        "#resistência do ar N.s/m\n",
        "c = 500\n",
        "#velocidade do veiculo em km/h\n",
        "v = 30\n",
        "#raio do tronco em metros\n",
        "r = 0.2\n",
        "# converte a velocidade para km/s\n",
        "v = v/3.6\n",
        "#frequência que o veículo passa pelo tronco\n",
        "wb = v/r"
      ],
      "metadata": {
        "id": "jdy9290ky2ov"
      },
      "execution_count": 5,
      "outputs": []
    },
    {
      "cell_type": "code",
      "source": [
        "# cria lista de símbolos, sendo t o tempo e c as constantes\n",
        "t,c1,c2 = sp.symbols(['t','c1','c2'])"
      ],
      "metadata": {
        "id": "2Gwc_DSe0PK_"
      },
      "execution_count": 8,
      "outputs": []
    },
    {
      "cell_type": "code",
      "source": [
        "# cria a função que modela o movimento do tronco\n",
        "y = r*(sp.sin(wb*t))"
      ],
      "metadata": {
        "id": "27XSq_6A1O4D"
      },
      "execution_count": 10,
      "outputs": []
    },
    {
      "cell_type": "code",
      "source": [
        "# calculando as derivadas necessárias para montar a equação de movimento\n",
        "\n",
        "# para y\n",
        "\n",
        "dy_t = sp.Derivative(y,t)\n",
        "\n",
        "# para x\n",
        "x = sp.Function('x')\n",
        "dx_t = sp.Derivative(x(t),t)  # x é uma função de t\n",
        "ddx_t = sp.Derivative(x(t),t,t)  # derivada segunda de x"
      ],
      "metadata": {
        "id": "9R7DoiX00V-W"
      },
      "execution_count": 11,
      "outputs": []
    },
    {
      "cell_type": "code",
      "source": [
        "# equação do movimento geral\n",
        "\n",
        "eq_movimento = m*(ddx_t) + c*(dx_t-dy_t) + k*(x(t)-y)\n",
        "eq_movimento"
      ],
      "metadata": {
        "colab": {
          "base_uri": "https://localhost:8080/",
          "height": 54
        },
        "id": "LbTFmluE5rFK",
        "outputId": "6e0a652b-bf27-4f56-c35d-aa41c27b1940"
      },
      "execution_count": 12,
      "outputs": [
        {
          "output_type": "execute_result",
          "data": {
            "text/plain": [
              "10000*x(t) - 2000.0*sin(41.6666666666667*t) + 500*Derivative(x(t), t) + 200*Derivative(x(t), (t, 2)) - 500*Derivative(0.2*sin(41.6666666666667*t), t)"
            ],
            "text/latex": "$\\displaystyle 10000 x{\\left(t \\right)} - 2000.0 \\sin{\\left(41.6666666666667 t \\right)} + 500 \\frac{d}{d t} x{\\left(t \\right)} + 200 \\frac{d^{2}}{d t^{2}} x{\\left(t \\right)} - 500 \\frac{d}{d t} 0.2 \\sin{\\left(41.6666666666667 t \\right)}$"
          },
          "metadata": {},
          "execution_count": 12
        }
      ]
    },
    {
      "cell_type": "code",
      "source": [
        "# solução da equação de movimento para x(t)\n",
        "\n",
        "x_t = sp.simplify(sp.dsolve(eq_movimento))\n",
        "x_t"
      ],
      "metadata": {
        "colab": {
          "base_uri": "https://localhost:8080/",
          "height": 89
        },
        "id": "6uISwm_a6FSj",
        "outputId": "eda7e237-76fa-4248-fbb1-1c63c1ae75fc"
      },
      "execution_count": 17,
      "outputs": [
        {
          "output_type": "execute_result",
          "data": {
            "text/plain": [
              "Eq(x(t), (C1*sin(5*sqrt(31)*t/4) + C2*cos(5*sqrt(31)*t/4) - (0.00514782472332082*sin(41.6666666666667*t) + 0.0126738771451805*cos(41.6666666666667*t))*exp(5*t/4))*exp(-5*t/4))"
            ],
            "text/latex": "$\\displaystyle x{\\left(t \\right)} = \\left(C_{1} \\sin{\\left(\\frac{5 \\sqrt{31} t}{4} \\right)} + C_{2} \\cos{\\left(\\frac{5 \\sqrt{31} t}{4} \\right)} - \\left(0.00514782472332082 \\sin{\\left(41.6666666666667 t \\right)} + 0.0126738771451805 \\cos{\\left(41.6666666666667 t \\right)}\\right) e^{\\frac{5 t}{4}}\\right) e^{- \\frac{5 t}{4}}$"
          },
          "metadata": {},
          "execution_count": 17
        }
      ]
    },
    {
      "cell_type": "markdown",
      "source": [
        "Em tese, o problema está resolvido. Agora é encontrar as constantes dada as condições iniciais, resolvendo as condições iniciais."
      ],
      "metadata": {
        "id": "EC3rH3_O6iPv"
      }
    },
    {
      "cell_type": "code",
      "source": [
        "# capturando os dados manualmente\n",
        "\n",
        "print(x_t)"
      ],
      "metadata": {
        "colab": {
          "base_uri": "https://localhost:8080/"
        },
        "id": "Xtek3rgL6dTN",
        "outputId": "f4319151-3cda-42c3-82d0-930cb3e2b2ca"
      },
      "execution_count": 18,
      "outputs": [
        {
          "output_type": "stream",
          "name": "stdout",
          "text": [
            "Eq(x(t), (C1*sin(5*sqrt(31)*t/4) + C2*cos(5*sqrt(31)*t/4) - (0.00514782472332082*sin(41.6666666666667*t) + 0.0126738771451805*cos(41.6666666666667*t))*exp(5*t/4))*exp(-5*t/4))\n"
          ]
        }
      ]
    },
    {
      "cell_type": "code",
      "source": [
        "x_t = (c1*sp.sin(5*sp.sqrt(31)*t/4) + c2*sp.cos(5*sp.sqrt(31)*t/4) - (0.00514782472332082*sp.sin(41.6666666666667*t) + 0.0126738771451805*sp.cos(41.6666666666667*t))*sp.exp(5*t/4))*sp.exp(-5*t/4)"
      ],
      "metadata": {
        "id": "ckC5yk307GXl"
      },
      "execution_count": 22,
      "outputs": []
    },
    {
      "cell_type": "code",
      "source": [
        "# problema de valor inicial\n",
        "#x(0) = 0 e dx/dt(0) = 0\n",
        "\n",
        "dx_t = sp.diff(x_t,t)\n",
        "\n",
        "# armaneza em uma matrix as condições iniciais\n",
        "X = sp.Matrix([[x_t.subs(t,0)],[dx_t.subs(t,0)]])\n",
        "X"
      ],
      "metadata": {
        "colab": {
          "base_uri": "https://localhost:8080/",
          "height": 61
        },
        "id": "abYKtgHx7ZqT",
        "outputId": "ed01f5a0-f074-48da-e3ff-b2aa2b64a2d4"
      },
      "execution_count": 26,
      "outputs": [
        {
          "output_type": "execute_result",
          "data": {
            "text/plain": [
              "Matrix([\n",
              "[                     c2 - 0.0126738771451805],\n",
              "[5*sqrt(31)*c1/4 - 5*c2/4 - 0.214492696805034]])"
            ],
            "text/latex": "$\\displaystyle \\left[\\begin{matrix}c_{2} - 0.0126738771451805\\\\\\frac{5 \\sqrt{31} c_{1}}{4} - \\frac{5 c_{2}}{4} - 0.214492696805034\\end{matrix}\\right]$"
          },
          "metadata": {},
          "execution_count": 26
        }
      ]
    },
    {
      "cell_type": "code",
      "source": [
        "# solução da matrix\n",
        "\n",
        "solucao = sp.solve(X,(c1,c2))\n",
        "solucao"
      ],
      "metadata": {
        "colab": {
          "base_uri": "https://localhost:8080/"
        },
        "id": "hqpM8taE71Mh",
        "outputId": "dfbbfaa1-2896-4173-cd0b-837fa98c3923"
      },
      "execution_count": 28,
      "outputs": [
        {
          "output_type": "execute_result",
          "data": {
            "text/plain": [
              "{c1: 0.0330955160062749, c2: 0.0126738771451805}"
            ]
          },
          "metadata": {},
          "execution_count": 28
        }
      ]
    },
    {
      "cell_type": "code",
      "source": [
        "#substitui na equação original os valores das constantes\n",
        "# no que a solução é um dicionário e basta chamar a chave\n",
        "\n",
        "x_t = x_t.subs(c1,solucao[c1]).subs(c2,solucao[c2])\n",
        "x_t"
      ],
      "metadata": {
        "colab": {
          "base_uri": "https://localhost:8080/",
          "height": 88
        },
        "id": "TQV_MoMp8oy8",
        "outputId": "4722eeec-cd26-40a6-9de2-702812bf7250"
      },
      "execution_count": 30,
      "outputs": [
        {
          "output_type": "execute_result",
          "data": {
            "text/plain": [
              "(-(0.00514782472332082*sin(41.6666666666667*t) + 0.0126738771451805*cos(41.6666666666667*t))*exp(5*t/4) + 0.0330955160062749*sin(5*sqrt(31)*t/4) + 0.0126738771451805*cos(5*sqrt(31)*t/4))*exp(-5*t/4)"
            ],
            "text/latex": "$\\displaystyle \\left(- \\left(0.00514782472332082 \\sin{\\left(41.6666666666667 t \\right)} + 0.0126738771451805 \\cos{\\left(41.6666666666667 t \\right)}\\right) e^{\\frac{5 t}{4}} + 0.0330955160062749 \\sin{\\left(\\frac{5 \\sqrt{31} t}{4} \\right)} + 0.0126738771451805 \\cos{\\left(\\frac{5 \\sqrt{31} t}{4} \\right)}\\right) e^{- \\frac{5 t}{4}}$"
          },
          "metadata": {},
          "execution_count": 30
        }
      ]
    },
    {
      "cell_type": "code",
      "source": [
        "# fazendo o mesmo para as derivadas\n",
        "\n",
        "dx_t = dx_t.subs(c1,solucao[c1]).subs(c2,solucao[c2])\n",
        "ddx_t = sp.diff(dx_t, t)"
      ],
      "metadata": {
        "id": "9FXpYs3R88SI"
      },
      "execution_count": 32,
      "outputs": []
    },
    {
      "cell_type": "code",
      "source": [
        "# calculando a força F(t)\n",
        "\n",
        "f_t = sp.simplify(k*(x_t-y) + c*(dx_t-dy_t))\n",
        "f_t"
      ],
      "metadata": {
        "colab": {
          "base_uri": "https://localhost:8080/",
          "height": 140
        },
        "id": "kiixlb6w9Tfr",
        "outputId": "291f25c6-17d6-4487-93e5-33da35ad4947"
      },
      "execution_count": 34,
      "outputs": [
        {
          "output_type": "execute_result",
          "data": {
            "text/plain": [
              "-2000.0*sin(41.6666666666667*t) + 212.560859958052*sin(41.6666666666667*t) - 4166.66666666667*cos(41.6666666666667*t) - 233.985119854322*cos(41.6666666666667*t) - 7.92117321573781*sqrt(31)*exp(-5*t/4)*sin(5*sqrt(31)*t/4) + 310.270462558827*exp(-5*t/4)*sin(5*sqrt(31)*t/4) + 20.6846975039218*sqrt(31)*exp(-5*t/4)*cos(5*sqrt(31)*t/4) + 118.817598236067*exp(-5*t/4)*cos(5*sqrt(31)*t/4)"
            ],
            "text/latex": "$\\displaystyle - 2000.0 \\sin{\\left(41.6666666666667 t \\right)} + 212.560859958052 \\sin{\\left(41.6666666666667 t \\right)} - 4166.66666666667 \\cos{\\left(41.6666666666667 t \\right)} - 233.985119854322 \\cos{\\left(41.6666666666667 t \\right)} - 7.92117321573781 \\sqrt{31} e^{- \\frac{5 t}{4}} \\sin{\\left(\\frac{5 \\sqrt{31} t}{4} \\right)} + 310.270462558827 e^{- \\frac{5 t}{4}} \\sin{\\left(\\frac{5 \\sqrt{31} t}{4} \\right)} + 20.6846975039218 \\sqrt{31} e^{- \\frac{5 t}{4}} \\cos{\\left(\\frac{5 \\sqrt{31} t}{4} \\right)} + 118.817598236067 e^{- \\frac{5 t}{4}} \\cos{\\left(\\frac{5 \\sqrt{31} t}{4} \\right)}$"
          },
          "metadata": {},
          "execution_count": 34
        }
      ]
    },
    {
      "cell_type": "code",
      "source": [
        "# cria gráfico da forma em função da posição\n",
        "\n",
        "valores_tempos = [tempo/1000 for tempo in range(1000)]\n",
        "valores_x = []\n",
        "valores_f = []\n",
        "\n",
        "for indice in valores_tempos:\n",
        "\n",
        "     valores_x.append(x_t.subs(t,indice))\n",
        "     valores_f.append(f_t.subs(t,indice))"
      ],
      "metadata": {
        "id": "edNFf-pH-GCb"
      },
      "execution_count": 44,
      "outputs": []
    },
    {
      "cell_type": "code",
      "source": [
        "# valores da força no eixo y, valores de tempo (s) no eixo x\n",
        "# gráfico de fator de carga\n",
        "\n",
        "plt.plot(valores_tempos,valores_f)"
      ],
      "metadata": {
        "colab": {
          "base_uri": "https://localhost:8080/",
          "height": 282
        },
        "id": "fc1Rg-P8ANpr",
        "outputId": "a877f463-dc4b-431f-8303-3f11b8246d7e"
      },
      "execution_count": 45,
      "outputs": [
        {
          "output_type": "execute_result",
          "data": {
            "text/plain": [
              "[<matplotlib.lines.Line2D at 0x7f4e2df53df0>]"
            ]
          },
          "metadata": {},
          "execution_count": 45
        },
        {
          "output_type": "display_data",
          "data": {
            "text/plain": [
              "<Figure size 432x288 with 1 Axes>"
            ],
            "image/png": "[encoded data removed]"
          },
          "metadata": {
            "needs_background": "light"
          }
        }
      ]
    }
  ]
}